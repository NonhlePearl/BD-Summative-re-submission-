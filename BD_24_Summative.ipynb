{
  "nbformat": 4,
  "nbformat_minor": 0,
  "metadata": {
    "kernelspec": {
      "display_name": "Python 3",
      "language": "python",
      "name": "python3"
    },
    "language_info": {
      "codemirror_mode": {
        "name": "ipython",
        "version": 3
      },
      "file_extension": ".py",
      "mimetype": "text/x-python",
      "name": "python",
      "nbconvert_exporter": "python",
      "pygments_lexer": "ipython3",
      "version": "3.6.7"
    },
    "colab": {
      "name": "BD_24_Summative.ipynb",
      "provenance": [],
      "collapsed_sections": [],
      "toc_visible": true
    }
  },
  "cells": [
    {
      "cell_type": "markdown",
      "metadata": {
        "id": "8UMtqQtiYsYj"
      },
      "source": [
        "# SETUP\n",
        "\n",
        "You will need to upload `gen_data.py` for this to work. You'll also need to set up spark as in the spark notebooks."
      ]
    },
    {
      "cell_type": "code",
      "metadata": {
        "id": "rFw0ZzkjbFds"
      },
      "source": [
        "# Installing java and downloading spark\r\n",
        "!apt-get install openjdk-8-jdk-headless -qq > /dev/null\r\n",
        "!wget -q https://www-us.apache.org/dist/spark/spark-2.4.7/spark-2.4.7-bin-hadoop2.7.tgz\r\n",
        "!tar xf spark-2.4.7-bin-hadoop2.7.tgz\r\n",
        "!pip install -q findspark\r\n",
        "import os\r\n",
        "os.environ[\"JAVA_HOME\"] = \"/usr/lib/jvm/java-8-openjdk-amd64\"\r\n",
        "os.environ[\"SPARK_HOME\"] = \"/content/spark-2.4.7-bin-hadoop2.7\""
      ],
      "execution_count": 59,
      "outputs": []
    },
    {
      "cell_type": "markdown",
      "metadata": {
        "id": "cOMoTSmlYpYX"
      },
      "source": [
        "# Summative"
      ]
    },
    {
      "cell_type": "markdown",
      "metadata": {
        "id": "MnsdM7DMYpYY"
      },
      "source": [
        "This exercise will go through a simulated streaming data workflow, as seen in the streaming data module. But it will be more complex, and closer to what a real world scenario might look like. You will need to \n",
        "- Investigate the incoming data\n",
        "- Create an appropriate database to store the incoming records\n",
        "- Write code to process records one by one as they arrive, including\n",
        " - Printing warnings when any reading goes above a predefined threshold\n",
        " - Storing the incoming data in a database\n",
        "- Write code to analyse the stored data in a scalable manner\n",
        "- Display relevant information in a dashboard"
      ]
    },
    {
      "cell_type": "markdown",
      "metadata": {
        "id": "AYAAClb6YpYa"
      },
      "source": [
        "## Create an appropriate database"
      ]
    },
    {
      "cell_type": "markdown",
      "metadata": {
        "id": "FN7XI0pCYpYb"
      },
      "source": [
        "Each incoming record will look something like the following: \n",
        "\n",
        "{'Device_ID': 9,                  \n",
        "  'Temp1': 33.01235436945101,  \n",
        "  'Temp2': 46.313589806396116,  \n",
        "  'Temp3': 16.506177184725505,  \n",
        "  'Temp_Ambient': 23.782493817278034}\n",
        "  \n",
        "Each device is assigned an integer ID. Every device has multiple sensors, and reports the readings from each sensor as a float. Each call to gen_data.getReading() returns a time (an integer here to make things easier) and a record that follows the same pattern as above.\n",
        "\n",
        "<b>Create a database to store the incoming data.</b> Include a time field for the time that the data arrives. If you create the database with python, show the code here, otherwise include any bash or sql code you run. You may wish to come back and add additional fields to make later analysis easier."
      ]
    },
    {
      "cell_type": "markdown",
      "metadata": {
        "id": "FewNsm0mY-O1"
      },
      "source": [
        "### ON COLAB: You can just show the appropriate SQL code, and then continue using an alternative (like a dataframe, saved to CSV) for the rest of the assignment."
      ]
    },
    {
      "cell_type": "code",
      "metadata": {
        "id": "BsRQAKH9YpYc"
      },
      "source": [
        "CREATE DATABASE TEMPERATURES\r\n",
        "CREATE TABLE gen_data(\r\n",
        "  Device_ID int(11),\r\n",
        "  Temp1 float,\r\n",
        "  Temp2 float,\r\n",
        "  Temp3 float,\r\n",
        "  Temp_Ambient float,\r\n",
        ");"
      ],
      "execution_count": null,
      "outputs": []
    },
    {
      "cell_type": "markdown",
      "metadata": {
        "id": "DLE-6i2vYpYi"
      },
      "source": [
        "## Store and process the incoming data\n",
        "\n",
        "As each record arrives (i.e. each loop of the for loop), you must\n",
        "- <b>Store the record in the database you created above\n",
        "- Use either moving windows or exponential averaging to keep track each sensor value for each device. Print out the values at the end of the loop\n",
        "- Print a warning if any reported temperature exceeds 100 degrees for the first time for that device</b>"
      ]
    },
    {
      "cell_type": "code",
      "metadata": {
        "id": "zGcXqrA4YpYi",
        "colab": {
          "base_uri": "https://localhost:8080/"
        },
        "outputId": "a43e6d89-317e-43c2-cc4b-388a69c84002"
      },
      "source": [
        "import gen_data \n",
        "\n",
        "\n",
        "for i in range(50): #Making this lower for testing purposes\n",
        "    \n",
        "    # Simulated data arriving \n",
        "    arrival_time, data = gen_data.getReading()\n",
        "    \n",
        "    print(data)\n",
        "    "
      ],
      "execution_count": 33,
      "outputs": [
        {
          "output_type": "stream",
          "text": [
            "{'Device_ID': 1, 'Temp1': 75.46353886706822, 'Temp2': 93.00989275377505, 'Temp3': 37.73176943353411, 'Temp_Ambient': 17.340405815062386}\n",
            "{'Device_ID': 0, 'Temp1': 74.58757353730283, 'Temp2': 92.04633089103312, 'Temp3': 37.293786768651415, 'Temp_Ambient': 16.637352413489108}\n",
            "{'Device_ID': 6, 'Temp1': 56.321552016201466, 'Temp2': 71.95370721782162, 'Temp3': 28.160776008100733, 'Temp_Ambient': 17.42867353359324}\n",
            "{'Device_ID': 0, 'Temp1': 74.58676777962442, 'Temp2': 92.04544455758688, 'Temp3': 37.29338388981221, 'Temp_Ambient': 17.10426625118841}\n",
            "{'Device_ID': 6, 'Temp1': 56.63626305198849, 'Temp2': 72.29988935718734, 'Temp3': 28.318131525994247, 'Temp_Ambient': 16.98083025420404}\n",
            "{'Device_ID': 2, 'Temp1': 34.98356831053065, 'Temp2': 48.481925141583716, 'Temp3': 17.491784155265325, 'Temp_Ambient': 16.85229294791211}\n",
            "{'Device_ID': 8, 'Temp1': 32.33253205528522, 'Temp2': 45.56578526081375, 'Temp3': 16.16626602764261, 'Temp_Ambient': 16.98561724741093}\n",
            "{'Device_ID': 4, 'Temp1': 30.58146387822077, 'Temp2': 43.63961026604285, 'Temp3': 15.290731939110385, 'Temp_Ambient': 17.25265777702054}\n",
            "{'Device_ID': 8, 'Temp1': 44.73060332430443, 'Temp2': 59.20366365673488, 'Temp3': 22.365301662152216, 'Temp_Ambient': 16.659426010245234}\n",
            "{'Device_ID': 1, 'Temp1': 91.19842970374945, 'Temp2': 110.3182726741244, 'Temp3': 45.59921485187473, 'Temp_Ambient': 16.848535832003613}\n",
            "{'Device_ID': 2, 'Temp1': 34.98587569292876, 'Temp2': 48.48446326222164, 'Temp3': 17.49293784646438, 'Temp_Ambient': 17.19498828802172}\n",
            "{'Device_ID': 5, 'Temp1': 25.871539909446703, 'Temp2': 38.458693900391374, 'Temp3': 12.935769954723352, 'Temp_Ambient': 17.290383885333842}\n",
            "{'Device_ID': 4, 'Temp1': 14.846847290828538, 'Temp2': 26.331532019911393, 'Temp3': 7.423423645414269, 'Temp_Ambient': 16.91755102849341}\n",
            "{'Device_ID': 3, 'Temp1': 33.56462941665061, 'Temp2': 46.921092358315676, 'Temp3': 216.78231470832532, 'Temp_Ambient': 17.02260949864656}\n",
            "{'Device_ID': 7, 'Temp1': 25.018654273398436, 'Temp2': 37.520519700738284, 'Temp3': 12.509327136699218, 'Temp_Ambient': 17.22895760634278}\n",
            "{'Device_ID': 8, 'Temp1': 34.07585308887729, 'Temp2': 47.48343839776502, 'Temp3': 17.037926544438644, 'Temp_Ambient': 16.7182792446242}\n",
            "{'Device_ID': 8, 'Temp1': 39.1710614552408, 'Temp2': 53.08816760076488, 'Temp3': 19.5855307276204, 'Temp_Ambient': 16.742903523501663}\n",
            "{'Device_ID': 5, 'Temp1': 35.309428638656485, 'Temp2': 48.84037150252214, 'Temp3': 17.654714319328242, 'Temp_Ambient': 17.649634308980982}\n",
            "{'Device_ID': 1, 'Temp1': 79.97300296206225, 'Temp2': 97.97030325826849, 'Temp3': 39.98650148103113, 'Temp_Ambient': 17.123778285127536}\n",
            "{'Device_ID': 10, 'Temp1': 31.0390743135259, 'Temp2': 44.1429817448785, 'Temp3': 215.51953715676296, 'Temp_Ambient': 17.056517508459507}\n",
            "{'Device_ID': 8, 'Temp1': 43.96582260482623, 'Temp2': 58.362404865308854, 'Temp3': 21.982911302413115, 'Temp_Ambient': 16.643567727216897}\n",
            "{'Device_ID': 0, 'Temp1': 67.77369988628746, 'Temp2': 84.55106987491621, 'Temp3': 33.88684994314373, 'Temp_Ambient': 16.976920854913157}\n",
            "{'Device_ID': 1, 'Temp1': 82.35781641714844, 'Temp2': 100.5935980588633, 'Temp3': 41.17890820857422, 'Temp_Ambient': 16.67833822563306}\n",
            "{'Device_ID': 10, 'Temp1': 43.500999110286514, 'Temp2': 57.85109902131517, 'Temp3': 221.75049955514325, 'Temp_Ambient': 16.746653603165417}\n",
            "{'Device_ID': 9, 'Temp1': 64.59496417465577, 'Temp2': 81.05446059212136, 'Temp3': 32.297482087327886, 'Temp_Ambient': 17.03698621681221}\n",
            "{'Device_ID': 3, 'Temp1': 36.7506687632781, 'Temp2': 50.42573563960591, 'Temp3': 218.37533438163905, 'Temp_Ambient': 17.076832443199482}\n",
            "{'Device_ID': 1, 'Temp1': 80.91886974382871, 'Temp2': 99.01075671821158, 'Temp3': 40.459434871914354, 'Temp_Ambient': 17.387138740447952}\n",
            "{'Device_ID': 7, 'Temp1': 31.160924392712204, 'Temp2': 44.277016831983424, 'Temp3': 15.580462196356102, 'Temp_Ambient': 17.610619240070392}\n",
            "{'Device_ID': 8, 'Temp1': 42.286733355590314, 'Temp2': 56.51540669114935, 'Temp3': 21.143366677795157, 'Temp_Ambient': 16.871197928863296}\n",
            "{'Device_ID': 0, 'Temp1': 67.32318184470085, 'Temp2': 84.05550002917094, 'Temp3': 33.66159092235043, 'Temp_Ambient': 16.93676156899358}\n",
            "{'Device_ID': 8, 'Temp1': 40.14941872239527, 'Temp2': 54.1643605946348, 'Temp3': 20.074709361197634, 'Temp_Ambient': 16.722789690313302}\n",
            "{'Device_ID': 5, 'Temp1': 33.55824619796206, 'Temp2': 46.91407081775827, 'Temp3': 16.77912309898103, 'Temp_Ambient': 16.851245748271488}\n",
            "{'Device_ID': 9, 'Temp1': 55.62450396058952, 'Temp2': 71.18695435664847, 'Temp3': 27.81225198029476, 'Temp_Ambient': 17.102288205522765}\n",
            "{'Device_ID': 9, 'Temp1': 60.9885899519904, 'Temp2': 77.08744894718944, 'Temp3': 30.4942949759952, 'Temp_Ambient': 17.030779704311183}\n",
            "{'Device_ID': 10, 'Temp1': 33.64949488375371, 'Temp2': 47.014444372129084, 'Temp3': 216.82474744187687, 'Temp_Ambient': 17.169428723528934}\n",
            "{'Device_ID': 7, 'Temp1': 16.647340168035168, 'Temp2': 28.312074184838686, 'Temp3': 8.323670084017584, 'Temp_Ambient': 17.3864037468798}\n",
            "{'Device_ID': 4, 'Temp1': 22.508033837754073, 'Temp2': 34.75883722152948, 'Temp3': 11.254016918877037, 'Temp_Ambient': 16.84766227446621}\n",
            "{'Device_ID': 8, 'Temp1': 42.938027146398845, 'Temp2': 57.23182986103873, 'Temp3': 21.469013573199422, 'Temp_Ambient': 16.730234683374324}\n",
            "{'Device_ID': 5, 'Temp1': 25.309761838641457, 'Temp2': 37.840738022505604, 'Temp3': 12.654880919320728, 'Temp_Ambient': 16.96232149549869}\n",
            "{'Device_ID': 8, 'Temp1': 49.27331287724326, 'Temp2': 64.20064416496758, 'Temp3': 24.63665643862163, 'Temp_Ambient': 16.734168715192634}\n",
            "{'Device_ID': 10, 'Temp1': 40.39529832549325, 'Temp2': 54.43482815804258, 'Temp3': 220.19764916274661, 'Temp_Ambient': 17.06054818651132}\n",
            "{'Device_ID': 6, 'Temp1': 61.310288905413884, 'Temp2': 77.44131779595527, 'Temp3': 30.655144452706942, 'Temp_Ambient': 17.41295226043586}\n",
            "{'Device_ID': 5, 'Temp1': 28.05823228552096, 'Temp2': 40.86405551407306, 'Temp3': 14.02911614276048, 'Temp_Ambient': 16.928899905951067}\n",
            "{'Device_ID': 4, 'Temp1': 21.565512510397628, 'Temp2': 33.7220637614374, 'Temp3': 10.782756255198814, 'Temp_Ambient': 16.749363996399886}\n",
            "{'Device_ID': 1, 'Temp1': 71.89138177548956, 'Temp2': 89.08051995303853, 'Temp3': 35.94569088774478, 'Temp_Ambient': 17.130446928297417}\n",
            "{'Device_ID': 10, 'Temp1': 33.25032908835265, 'Temp2': 46.57536199718792, 'Temp3': 216.62516454417633, 'Temp_Ambient': 16.94873990909814}\n",
            "{'Device_ID': 10, 'Temp1': 32.119221815918976, 'Temp2': 45.33114399751088, 'Temp3': 216.0596109079595, 'Temp_Ambient': 17.045862717048287}\n",
            "{'Device_ID': 7, 'Temp1': 31.97086098315243, 'Temp2': 45.16794708146767, 'Temp3': 15.985430491576215, 'Temp_Ambient': 17.413789988672605}\n",
            "{'Device_ID': 9, 'Temp1': 59.67286658693071, 'Temp2': 75.64015324562378, 'Temp3': 29.836433293465355, 'Temp_Ambient': 17.27338122711439}\n",
            "{'Device_ID': 6, 'Temp1': 55.435222556645265, 'Temp2': 70.9787448123098, 'Temp3': 27.717611278322632, 'Temp_Ambient': 17.458752189209367}\n"
          ],
          "name": "stdout"
        }
      ]
    },
    {
      "cell_type": "markdown",
      "metadata": {
        "id": "vPoYozcNYpYn"
      },
      "source": [
        "## Analyzing the stored data\n",
        "\n",
        "You now have a nice big database. <b>Load it into spark for analysis.</b>\n",
        "\n",
        "You are told that during the time the data was being collected, devices 3 and 10 had malfunctioning sensors - their temperature3 readings are all 200+. <b>Verify this.</b> Since the engineers knew about the faulty sensors, no harm has been done, but seeing those false readings in the historical data makes you unhappy. You decide to go the extra mile and replace these readings with slightly more believable (but still false) data, to practise your new machine learning skills.\n",
        "\n",
        "<b>Using the other devices for training, build a model to predict temperature3 given readings from the other sensors. Use the model to replace the erroneous values with the predicted ones. \n",
        "    \n",
        "Do you think this is a reasonable step to take? Explain.</b> "
      ]
    },
    {
      "cell_type": "code",
      "metadata": {
        "colab": {
          "base_uri": "https://localhost:8080/",
          "height": 237
        },
        "id": "7Lc9WxcDloyB",
        "outputId": "8dad2bf1-d65c-4ea1-b7aa-2d01742281b7"
      },
      "source": [
        "import pandas as pd\r\n",
        "window = [] # The moving window\r\n",
        "ErroLog = []\r\n",
        "df = pd.DataFrame(columns=['Time', 'Device_ID', 'Temp1', 'Temp2', 'Temp3','Temp_Ambient'])\r\n",
        "\r\n",
        "\r\n",
        "for i in range(50): \r\n",
        "    \r\n",
        "    # Siimulating data arriving\r\n",
        "    arrival_time, data = gen_data.getReading()\r\n",
        "    window.append(data) # Add the record to our moving window\r\n",
        "    if len(window)>10: # Keep the window size from growing beyond 10:\r\n",
        "        del(window[0]) # If the window is >10 items, delete the oldest\r\n",
        "   \r\n",
        "    # And add the reading and calculated values to a database (or in this case just a pandas DataFrame)\r\n",
        "    df = pd.concat([df, pd.DataFrame([{'Time': arrival_time, 'Device_ID': data['Device_ID'],\r\n",
        "                                       'Temp1':data['Temp1'], \r\n",
        "                                       'Temp2':data['Temp2'],\r\n",
        "                                       'Temp3':data['Temp3'], \r\n",
        "                                       'Temp_Ambient':data['Temp_Ambient']}])], ignore_index=True)\r\n",
        "                                       \r\n",
        "    if (data['Temp1'] > 200 or data['Temp2'] > 200 or data['Temp3'] > 200 or data['Temp_Ambient'] > 200):\r\n",
        "         if data['Device_ID'] not in ErroLog:\r\n",
        "            ErroLog.append(data['Device_ID'])\r\n",
        "            print(\"Device %s sensors has a temperature above 200 degrees\" %data['Device_ID'])\r\n",
        "\r\n",
        "df.head() # The first few rows"
      ],
      "execution_count": 64,
      "outputs": [
        {
          "output_type": "stream",
          "text": [
            "Device 10 sensors has a temperature above 200 degrees\n",
            "Device 3 sensors has a temperature above 200 degrees\n"
          ],
          "name": "stdout"
        },
        {
          "output_type": "execute_result",
          "data": {
            "text/html": [
              "<div>\n",
              "<style scoped>\n",
              "    .dataframe tbody tr th:only-of-type {\n",
              "        vertical-align: middle;\n",
              "    }\n",
              "\n",
              "    .dataframe tbody tr th {\n",
              "        vertical-align: top;\n",
              "    }\n",
              "\n",
              "    .dataframe thead th {\n",
              "        text-align: right;\n",
              "    }\n",
              "</style>\n",
              "<table border=\"1\" class=\"dataframe\">\n",
              "  <thead>\n",
              "    <tr style=\"text-align: right;\">\n",
              "      <th></th>\n",
              "      <th>Time</th>\n",
              "      <th>Device_ID</th>\n",
              "      <th>Temp1</th>\n",
              "      <th>Temp2</th>\n",
              "      <th>Temp3</th>\n",
              "      <th>Temp_Ambient</th>\n",
              "    </tr>\n",
              "  </thead>\n",
              "  <tbody>\n",
              "    <tr>\n",
              "      <th>0</th>\n",
              "      <td>493</td>\n",
              "      <td>6</td>\n",
              "      <td>52.401492</td>\n",
              "      <td>67.641641</td>\n",
              "      <td>26.200746</td>\n",
              "      <td>17.606782</td>\n",
              "    </tr>\n",
              "    <tr>\n",
              "      <th>1</th>\n",
              "      <td>506</td>\n",
              "      <td>5</td>\n",
              "      <td>30.223962</td>\n",
              "      <td>43.246358</td>\n",
              "      <td>15.111981</td>\n",
              "      <td>17.122991</td>\n",
              "    </tr>\n",
              "    <tr>\n",
              "      <th>2</th>\n",
              "      <td>516</td>\n",
              "      <td>0</td>\n",
              "      <td>70.845767</td>\n",
              "      <td>87.930343</td>\n",
              "      <td>35.422883</td>\n",
              "      <td>17.601719</td>\n",
              "    </tr>\n",
              "    <tr>\n",
              "      <th>3</th>\n",
              "      <td>485</td>\n",
              "      <td>7</td>\n",
              "      <td>25.643925</td>\n",
              "      <td>38.208317</td>\n",
              "      <td>12.821962</td>\n",
              "      <td>17.171377</td>\n",
              "    </tr>\n",
              "    <tr>\n",
              "      <th>4</th>\n",
              "      <td>516</td>\n",
              "      <td>0</td>\n",
              "      <td>72.400504</td>\n",
              "      <td>89.640555</td>\n",
              "      <td>36.200252</td>\n",
              "      <td>17.315266</td>\n",
              "    </tr>\n",
              "  </tbody>\n",
              "</table>\n",
              "</div>"
            ],
            "text/plain": [
              "  Time Device_ID      Temp1      Temp2      Temp3  Temp_Ambient\n",
              "0  493         6  52.401492  67.641641  26.200746     17.606782\n",
              "1  506         5  30.223962  43.246358  15.111981     17.122991\n",
              "2  516         0  70.845767  87.930343  35.422883     17.601719\n",
              "3  485         7  25.643925  38.208317  12.821962     17.171377\n",
              "4  516         0  72.400504  89.640555  36.200252     17.315266"
            ]
          },
          "metadata": {
            "tags": []
          },
          "execution_count": 64
        }
      ]
    },
    {
      "cell_type": "code",
      "metadata": {
        "id": "po8kPzXBqYgn"
      },
      "source": [
        "# Start up the spark App\r\n",
        "import findspark\r\n",
        "findspark.init()\r\n",
        "from pyspark.sql import SparkSession \r\n",
        "spark = SparkSession.builder.master(\"local[*]\").getOrCreate()"
      ],
      "execution_count": 61,
      "outputs": []
    },
    {
      "cell_type": "code",
      "metadata": {
        "colab": {
          "base_uri": "https://localhost:8080/"
        },
        "id": "AM3VUYyuof4O",
        "outputId": "9f0b5eca-a25b-4094-ab09-520300616990"
      },
      "source": [
        "#Creating a spark DataFrame \r\n",
        "df_1 = spark.createDataFrame(df)\r\n",
        "df_1.head()"
      ],
      "execution_count": 65,
      "outputs": [
        {
          "output_type": "execute_result",
          "data": {
            "text/plain": [
              "Row(Time=493, Device_ID=6, Temp1=52.401491932424086, Temp2=67.6416411256665, Temp3=26.200745966212043, Temp_Ambient=17.60678194290574)"
            ]
          },
          "metadata": {
            "tags": []
          },
          "execution_count": 65
        }
      ]
    },
    {
      "cell_type": "code",
      "metadata": {
        "colab": {
          "base_uri": "https://localhost:8080/"
        },
        "id": "zNo0rWQoru3t",
        "outputId": "fb84cd16-f67d-424f-fb32-c283ef4b4c26"
      },
      "source": [
        "df_1.dtypes"
      ],
      "execution_count": 67,
      "outputs": [
        {
          "output_type": "execute_result",
          "data": {
            "text/plain": [
              "[('Time', 'bigint'),\n",
              " ('Device_ID', 'bigint'),\n",
              " ('Temp1', 'double'),\n",
              " ('Temp2', 'double'),\n",
              " ('Temp3', 'double'),\n",
              " ('Temp_Ambient', 'double')]"
            ]
          },
          "metadata": {
            "tags": []
          },
          "execution_count": 67
        }
      ]
    },
    {
      "cell_type": "code",
      "metadata": {
        "id": "GLafJh4_s8zP"
      },
      "source": [
        "from pyspark.ml import Pipeline\r\n",
        "from pyspark.ml.feature import VectorAssembler\r\n",
        "from pyspark.ml.clustering import KMeans"
      ],
      "execution_count": 72,
      "outputs": []
    },
    {
      "cell_type": "code",
      "metadata": {
        "colab": {
          "base_uri": "https://localhost:8080/"
        },
        "id": "iLJvXOolscFV",
        "outputId": "7c682d93-1d88-4046-a788-1756b3abdce3"
      },
      "source": [
        "# Split the data into training and test sets\r\n",
        "(trainingData, testData) = df_1.randomSplit([0.8, 0.2])\r\n",
        "\r\n",
        "#create an assember using readings from other sensors\r\n",
        "assembler = VectorAssembler(inputCols = ['Temp1',\r\n",
        "                                          'Temp2',\r\n",
        "                                          'Temp_Ambient'], \r\n",
        "                            outputCol = \"features\")\r\n",
        "\r\n",
        "# using k-means since this is an anomaly detection problem\r\n",
        "kmeans = KMeans(featuresCol='features', predictionCol='Temp3_Pred',k=4)\r\n",
        "\r\n",
        "#transform data using pipeline\r\n",
        "pipeline = Pipeline(stages=[assembler, kmeans])\r\n",
        "\r\n",
        "#fit pipeline\r\n",
        "PipelineModel = pipeline.fit(df_1)\r\n",
        "\r\n",
        "# transform using the pipeline\r\n",
        "predictions = PipelineModel.transform(df_1)\r\n",
        "\r\n",
        "#show predictions\r\n",
        "predictions.show()"
      ],
      "execution_count": 73,
      "outputs": [
        {
          "output_type": "stream",
          "text": [
            "+----+---------+------------------+------------------+------------------+------------------+--------------------+----------+\n",
            "|Time|Device_ID|             Temp1|             Temp2|             Temp3|      Temp_Ambient|            features|Temp3_Pred|\n",
            "+----+---------+------------------+------------------+------------------+------------------+--------------------+----------+\n",
            "| 493|        6|52.401491932424086|  67.6416411256665|26.200745966212043| 17.60678194290574|[52.4014919324240...|         2|\n",
            "| 506|        5|30.223961506418604|43.246357657060464|15.111980753209302|17.122991342939777|[30.2239615064186...|         1|\n",
            "| 516|        0| 70.84576673561871|  87.9303434091806|35.422883367809355| 17.60171881852961|[70.8457667356187...|         0|\n",
            "| 485|        7|25.643924828318593| 38.20831731115045|12.821962414159296|17.171376698110656|[25.6439248283185...|         3|\n",
            "| 516|        0| 72.40050443428677| 89.64055487771546| 36.20025221714339|17.315266216775356|[72.4005044342867...|         0|\n",
            "| 509|        1| 83.38022570861833|101.71824827948016| 41.69011285430916|17.329420588955312|[83.3802257086183...|         0|\n",
            "| 502|        4|19.211048406075648|31.132153246683213| 9.605524203037824| 17.29956344222894|[19.2110484060756...|         3|\n",
            "| 506|        5| 33.70742786614635| 47.07817065276098|16.853713933073173|17.384264365201282|[33.7074278661463...|         1|\n",
            "| 525|       10| 38.46697616207246|52.313673778279714|219.23348808103623|17.740503885409375|[38.4669761620724...|         1|\n",
            "| 507|        5| 34.96487830580258| 48.46136613638284| 17.48243915290129| 17.28448299375306|[34.9648783058025...|         1|\n",
            "| 513|        9| 61.91479699684134| 78.10627669652548| 30.95739849842067|17.537852025123918|[61.9147969968413...|         2|\n",
            "| 502|        4|28.226028842031788| 41.04863172623497|14.113014421015894| 17.58513205929926|[28.2260288420317...|         1|\n",
            "| 513|        9| 62.63168766497278| 78.89485643147006| 31.31584383248639|17.792352654740647|[62.6316876649727...|         2|\n",
            "| 509|        1| 82.22969052428803|100.45265957671684|41.114845262144016|17.426098728846156|[82.2296905242880...|         0|\n",
            "| 516|        3|25.640860104352797| 38.20494611478808| 212.8204300521764|17.106276863816948|[25.6408601043527...|         3|\n",
            "| 507|        5| 29.81396465185144|42.795361117036585| 14.90698232592572|17.492178944740154|[29.8139646518514...|         1|\n",
            "| 514|        2|28.718602169601102|41.590462386561214|14.359301084800551|17.663227875257654|[28.7186021696011...|         1|\n",
            "| 486|        7|22.192486613762192| 34.41173527513841|11.096243306881096|17.366158095899646|[22.1924866137621...|         3|\n",
            "| 507|        5|31.416345241627944| 44.55797976579074|15.708172620813972|17.577836095379222|[31.4163452416279...|         1|\n",
            "| 516|        3|30.070761160807365|43.077837276888104|215.03538058040368|17.372437071583008|[30.0707611608073...|         1|\n",
            "+----+---------+------------------+------------------+------------------+------------------+--------------------+----------+\n",
            "only showing top 20 rows\n",
            "\n"
          ],
          "name": "stdout"
        }
      ]
    },
    {
      "cell_type": "code",
      "metadata": {
        "id": "0N9XY-datldq"
      },
      "source": [
        "#End spark session\r\n",
        "spark.stop()"
      ],
      "execution_count": 74,
      "outputs": []
    },
    {
      "cell_type": "markdown",
      "metadata": {
        "id": "9abaaVfyYpYs"
      },
      "source": [
        "## Step 4: Visualization\n",
        "\n",
        "Time to get creative. Your final task is to build up a set of visualizations that could let an engineer get a quick overview of the current status of the system. Include the current sensor readings for each device and any metrics you think would be important to display. Choose one device and show more detail - a downsampled graph showing the readings over time, perhaps.\n",
        "\n",
        "You don't need to have your visualizations update in real time - merely show them as they would be presented at a given instant (i.e. feel free to use all the data you stored in the first section)."
      ]
    },
    {
      "cell_type": "code",
      "metadata": {
        "id": "1QDf5tuiYpYt",
        "colab": {
          "base_uri": "https://localhost:8080/"
        },
        "outputId": "2cfd94a1-c317-48d5-9cd1-9c521ad85a8e"
      },
      "source": [
        "from matplotlib import pyplot\r\n",
        "from pandas.plotting import autocorrelation_plot\r\n",
        "from sklearn.metrics import mean_squared_error\r\n",
        "from statsmodels.tsa.arima_model import ARIMA\r\n",
        "from statsmodels.graphics.tsaplots import plot_acf"
      ],
      "execution_count": 75,
      "outputs": [
        {
          "output_type": "stream",
          "text": [
            "/usr/local/lib/python3.6/dist-packages/statsmodels/tools/_testing.py:19: FutureWarning: pandas.util.testing is deprecated. Use the functions in the public API at pandas.testing instead.\n",
            "  import pandas.util.testing as tm\n"
          ],
          "name": "stderr"
        }
      ]
    },
    {
      "cell_type": "code",
      "metadata": {
        "id": "QzmQsLaHYpYx",
        "colab": {
          "base_uri": "https://localhost:8080/",
          "height": 531
        },
        "outputId": "079d008d-bef0-4fec-948a-28a564284868"
      },
      "source": [
        "Temp3 = df['Temp3']\r\n",
        "Temp3[1:100].plot()\r\n",
        "pyplot.show()\r\n",
        "\r\n",
        "autocorrelation_plot(Temp3[1:100])\r\n",
        "pyplot.show()\r\n",
        "\r\n",
        "pyplot.show()"
      ],
      "execution_count": 78,
      "outputs": [
        {
          "output_type": "display_data",
          "data": {
            "image/png": "[encoded data removed]",
            "text/plain": [
              "<Figure size 432x288 with 1 Axes>"
            ]
          },
          "metadata": {
            "tags": [],
            "needs_background": "light"
          }
        },
        {
          "output_type": "display_data",
          "data": {
            "image/png": "[encoded data removed]",
            "text/plain": [
              "<Figure size 432x288 with 1 Axes>"
            ]
          },
          "metadata": {
            "tags": [],
            "needs_background": "light"
          }
        }
      ]
    },
    {
      "cell_type": "code",
      "metadata": {
        "id": "c1UD2gUaYpY5"
      },
      "source": [
        ""
      ],
      "execution_count": null,
      "outputs": []
    }
  ]
}